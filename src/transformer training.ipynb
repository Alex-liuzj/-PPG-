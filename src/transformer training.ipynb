{
 "cells": [
  {
   "cell_type": "code",
   "execution_count": 1,
   "metadata": {
    "collapsed": true,
    "ExecuteTime": {
     "end_time": "2023-07-31T02:29:50.178792300Z",
     "start_time": "2023-07-31T02:29:48.430243200Z"
    }
   },
   "outputs": [],
   "source": [
    "import torch\n",
    "import matplotlib.pyplot as plt\n",
    "from torch.utils.data import DataLoader\n",
    "from data_processing import *\n",
    "from globals import DATA\n",
    "import math\n",
    "import numpy as np\n",
    "#import transformer_timeseries  as tst\n",
    "import torch.nn as nn\n",
    "from transformer_utils import *\n",
    "import transformer_dataset as ds\n",
    "import transformer_timeseries as tst\n",
    "\n"
   ]
  },
  {
   "cell_type": "code",
   "execution_count": 2,
   "outputs": [],
   "source": [
    "get_and_save_data(dir_path=DATA)\n",
    "\n",
    "X_train, X_test, y_train, y_test = load_train_test_data(DATA)\n",
    "ppg_train_conv = convert_to_2d(X_train, 0)\n",
    "ecg_train_conv = convert_to_2d(X_train, 1)\n",
    "abp_train_conv = convert_to_2d(y_train)\n",
    "ppg_test_conv = convert_to_2d(X_test, 0)\n",
    "ecg_test_conv = convert_to_2d(X_test, 1)\n",
    "abp_test_conv = convert_to_2d(y_test)\n",
    "\n",
    "ppg_train_conv_scaled = (ppg_train_conv - ppg_train_conv.min())/(ppg_train_conv.max()-ppg_train_conv.min())\n",
    "ecg_train_conv_scaled = (ecg_train_conv - ecg_train_conv.min())/(ecg_train_conv.max()-ecg_train_conv.min())\n",
    "abp_train_conv_scaled = (abp_train_conv - abp_train_conv.min())/(abp_train_conv.max()-abp_train_conv.min())\n",
    "ppg_test_conv_scaled = (ppg_test_conv - ppg_test_conv.min())/(ppg_test_conv.max()-ppg_test_conv.min())\n",
    "ecg_test_conv_scaled = (ecg_test_conv - ecg_test_conv.min())/(ecg_test_conv.max()-ecg_test_conv.min())\n",
    "abp_test_conv_scaled = (abp_test_conv - abp_test_conv.min())/(abp_test_conv.max()-abp_test_conv.min())"
   ],
   "metadata": {
    "collapsed": false,
    "ExecuteTime": {
     "end_time": "2023-07-31T02:29:50.334419600Z",
     "start_time": "2023-07-31T02:29:50.185767800Z"
    }
   }
  },
  {
   "cell_type": "code",
   "execution_count": 3,
   "outputs": [
    {
     "data": {
      "text/plain": "(147000,)"
     },
     "execution_count": 3,
     "metadata": {},
     "output_type": "execute_result"
    }
   ],
   "source": [
    "ppg_train_conv.shape"
   ],
   "metadata": {
    "collapsed": false,
    "ExecuteTime": {
     "end_time": "2023-07-31T02:29:50.374305600Z",
     "start_time": "2023-07-31T02:29:50.335417600Z"
    }
   }
  },
  {
   "cell_type": "code",
   "execution_count": 4,
   "outputs": [],
   "source": [
    "# plt.figure(figsize=(28,40))\n",
    "# plt.subplot(10,1,1)\n",
    "# plt.plot(ppg_train_conv_scaled[89500:90500])\n",
    "# plt.subplot(10,1,2)\n",
    "# plt.plot(ppg_train_conv_scaled[90500:91500])\n",
    "# plt.subplot(10,1,3)\n",
    "# plt.plot(ppg_train_conv_scaled[91500:92500])\n",
    "# plt.subplot(10,1,4)\n",
    "# plt.plot(ppg_train_conv_scaled[92500:93500])\n",
    "# plt.subplot(10,1,5)\n",
    "# plt.plot(ppg_train_conv_scaled[93500:94500])\n",
    "# plt.subplot(10,1,6)\n",
    "# plt.plot(ppg_train_conv_scaled[94500:95500])\n",
    "# plt.subplot(10,1,7)\n",
    "# plt.plot(ppg_train_conv_scaled[95500:96500])\n",
    "# plt.subplot(10,1,8)\n",
    "# plt.plot(ppg_train_conv_scaled[96500:97500])\n",
    "# plt.subplot(10,1,9)\n",
    "# plt.plot(ppg_train_conv_scaled[97500:98500])\n",
    "# plt.subplot(10,1,10)\n",
    "# plt.plot(ppg_train_conv_scaled[98500:99500])\n"
   ],
   "metadata": {
    "collapsed": false,
    "ExecuteTime": {
     "end_time": "2023-07-31T02:29:50.374305600Z",
     "start_time": "2023-07-31T02:29:50.363338200Z"
    }
   }
  },
  {
   "cell_type": "code",
   "execution_count": 5,
   "outputs": [],
   "source": [
    "dim_val = 512\n",
    "n_heads = 8\n",
    "n_decoder_layers = 4\n",
    "n_encoder_layers = 4\n",
    "dec_seq_len = 92 # length of input given to decoder\n",
    "enc_seq_len = 160 # length of input given to encoder\n",
    "output_sequence_length = 5 # target sequence length. If hourly data and length = 48, you predict 2 days ahead\n",
    "window_size = enc_seq_len + output_sequence_length # used to slice data into sub-sequences\n",
    "step_size = 1 # Step size, i.e. how many time steps does the moving window move at each step\n",
    "in_features_encoder_linear_layer = 2048\n",
    "in_features_decoder_linear_layer = 2048\n",
    "max_seq_len = enc_seq_len\n",
    "batch_size = 128\n",
    "#batch_first = True"
   ],
   "metadata": {
    "collapsed": false,
    "ExecuteTime": {
     "end_time": "2023-07-31T02:29:50.378298400Z",
     "start_time": "2023-07-31T02:29:50.366328700Z"
    }
   }
  },
  {
   "cell_type": "code",
   "execution_count": 6,
   "outputs": [
    {
     "name": "stdout",
     "output_type": "stream",
     "text": [
      "From get_src_trg: data size = torch.Size([147000, 1])\n",
      "src shape changed from torch.Size([128, 160, 1]) to torch.Size([160, 128, 1])\n",
      "src shape changed from torch.Size([128, 5, 1]) to torch.Size([160, 128, 1])\n"
     ]
    }
   ],
   "source": [
    "training_indices = get_indices_entire_sequence(\n",
    "    data=ppg_train_conv_scaled,\n",
    "    window_size=window_size,\n",
    "    step_size=step_size)\n",
    "\n",
    "training_data = ds.TransformerDataset(\n",
    "    data=torch.tensor(ppg_train_conv_scaled).unsqueeze(-1).float(),\n",
    "    indices=training_indices,\n",
    "    enc_seq_len=enc_seq_len,\n",
    "    dec_seq_len=dec_seq_len,\n",
    "    target_seq_len=output_sequence_length\n",
    "    )\n",
    "\n",
    "training_data = DataLoader(training_data, batch_size)\n",
    "\n",
    "i, batch = next(enumerate(training_data))\n",
    "\n",
    "src, trg, trg_y = batch\n",
    "\n",
    "shape_before = src.shape\n",
    "src = src.permute(1, 0, 2)\n",
    "print(\"src shape changed from {} to {}\".format(shape_before, src.shape))\n",
    "\n",
    "shape_before = trg.shape\n",
    "trg = trg.permute(1, 0, 2)\n",
    "print(\"src shape changed from {} to {}\".format(shape_before, src.shape))"
   ],
   "metadata": {
    "collapsed": false,
    "ExecuteTime": {
     "end_time": "2023-07-31T02:29:50.484013300Z",
     "start_time": "2023-07-31T02:29:50.433176Z"
    }
   }
  },
  {
   "cell_type": "code",
   "execution_count": 7,
   "outputs": [
    {
     "data": {
      "text/plain": "torch.Size([160, 128, 1])"
     },
     "execution_count": 7,
     "metadata": {},
     "output_type": "execute_result"
    }
   ],
   "source": [
    "src.shape"
   ],
   "metadata": {
    "collapsed": false,
    "ExecuteTime": {
     "end_time": "2023-07-31T02:29:50.558812Z",
     "start_time": "2023-07-31T02:29:50.486009700Z"
    }
   }
  },
  {
   "cell_type": "code",
   "execution_count": 8,
   "outputs": [],
   "source": [
    "model = tst.TimeSeriesTransformer(\n",
    "    input_size=1,\n",
    "    dec_seq_len=enc_seq_len,\n",
    "    num_predicted_features=1,\n",
    "    batch_first=False,\n",
    "    )\n",
    "\n",
    "src_mask = generate_square_subsequent_mask(\n",
    "    dim1=output_sequence_length,\n",
    "    dim2=enc_seq_len\n",
    "    )\n",
    "\n",
    "tgt_mask = generate_square_subsequent_mask(\n",
    "    dim1=output_sequence_length,\n",
    "    dim2=output_sequence_length\n",
    "    )"
   ],
   "metadata": {
    "collapsed": false,
    "ExecuteTime": {
     "end_time": "2023-07-31T02:29:50.653586300Z",
     "start_time": "2023-07-31T02:29:50.501967Z"
    }
   }
  },
  {
   "cell_type": "code",
   "execution_count": 9,
   "outputs": [],
   "source": [
    "#device\n",
    "device = torch.device(\"cuda\" if torch.cuda.is_available() else \"cpu\")\n",
    "model = model.to(device)\n",
    "src = src.to(device)\n",
    "trg = trg.to(device)\n",
    "trg_y = trg_y.to(device)\n",
    "src_mask = src_mask.to(device)\n",
    "tgt_mask = tgt_mask.to(device)\n"
   ],
   "metadata": {
    "collapsed": false,
    "ExecuteTime": {
     "end_time": "2023-07-31T02:29:52.411844200Z",
     "start_time": "2023-07-31T02:29:50.624639200Z"
    }
   }
  },
  {
   "cell_type": "code",
   "execution_count": 11,
   "outputs": [
    {
     "name": "stdout",
     "output_type": "stream",
     "text": [
      "0 Epoch: 0, Loss: 0.028153592720627785\n",
      "10 Epoch: 0, Loss: 0.29306885600090027\n",
      "20 Epoch: 0, Loss: 0.03114030696451664\n",
      "30 Epoch: 0, Loss: 0.02982744388282299\n",
      "40 Epoch: 0, Loss: 0.03680424764752388\n",
      "50 Epoch: 0, Loss: 0.03716028854250908\n",
      "60 Epoch: 0, Loss: 0.025241201743483543\n",
      "70 Epoch: 0, Loss: 0.03086479939520359\n",
      "80 Epoch: 0, Loss: 0.026082342490553856\n",
      "90 Epoch: 0, Loss: 0.027622640132904053\n",
      "100 Epoch: 0, Loss: 0.025463609024882317\n",
      "110 Epoch: 0, Loss: 0.025433266535401344\n",
      "120 Epoch: 0, Loss: 0.024320248514413834\n",
      "130 Epoch: 0, Loss: 0.02685721218585968\n",
      "140 Epoch: 0, Loss: 0.025722352787852287\n",
      "150 Epoch: 0, Loss: 0.02548319101333618\n",
      "160 Epoch: 0, Loss: 0.021778849884867668\n"
     ]
    },
    {
     "ename": "KeyboardInterrupt",
     "evalue": "",
     "output_type": "error",
     "traceback": [
      "\u001B[1;31m---------------------------------------------------------------------------\u001B[0m",
      "\u001B[1;31mKeyboardInterrupt\u001B[0m                         Traceback (most recent call last)",
      "Cell \u001B[1;32mIn[11], line 12\u001B[0m\n\u001B[0;32m     10\u001B[0m trg \u001B[38;5;241m=\u001B[39m trg\u001B[38;5;241m.\u001B[39mpermute(\u001B[38;5;241m1\u001B[39m, \u001B[38;5;241m0\u001B[39m, \u001B[38;5;241m2\u001B[39m)\n\u001B[0;32m     11\u001B[0m trg_y \u001B[38;5;241m=\u001B[39m trg_y\u001B[38;5;241m.\u001B[39munsqueeze(\u001B[38;5;241m-\u001B[39m\u001B[38;5;241m1\u001B[39m)\u001B[38;5;241m.\u001B[39mpermute(\u001B[38;5;241m1\u001B[39m, \u001B[38;5;241m0\u001B[39m, \u001B[38;5;241m2\u001B[39m)\n\u001B[1;32m---> 12\u001B[0m src \u001B[38;5;241m=\u001B[39m \u001B[43msrc\u001B[49m\u001B[38;5;241;43m.\u001B[39;49m\u001B[43mto\u001B[49m\u001B[43m(\u001B[49m\u001B[43mdevice\u001B[49m\u001B[43m)\u001B[49m\n\u001B[0;32m     13\u001B[0m trg \u001B[38;5;241m=\u001B[39m trg\u001B[38;5;241m.\u001B[39mto(device)\n\u001B[0;32m     14\u001B[0m trg_y \u001B[38;5;241m=\u001B[39m trg_y\u001B[38;5;241m.\u001B[39mto(device)\n",
      "\u001B[1;31mKeyboardInterrupt\u001B[0m: "
     ]
    }
   ],
   "source": [
    "#train the model\n",
    "model.train()\n",
    "optimizer = torch.optim.Adam(model.parameters(), lr=0.001)\n",
    "criterion = nn.MSELoss()\n",
    "epochs = 1\n",
    "for epoch in range(epochs):\n",
    "    for i, batch in enumerate(training_data):\n",
    "        src, trg, trg_y = batch\n",
    "        src = src.permute(1, 0, 2)\n",
    "        trg = trg.permute(1, 0, 2)\n",
    "        trg_y = trg_y.unsqueeze(-1).permute(1, 0, 2)\n",
    "        src = src.to(device)\n",
    "        trg = trg.to(device)\n",
    "        trg_y = trg_y.to(device)\n",
    "        optimizer.zero_grad()\n",
    "        output = model(\n",
    "            src=src,\n",
    "            tgt=trg,\n",
    "            src_mask=src_mask,\n",
    "            tgt_mask=tgt_mask,\n",
    "            )\n",
    "        loss = criterion(output, trg_y)\n",
    "        loss.backward()\n",
    "        optimizer.step()\n",
    "        if i % 10 == 0:\n",
    "            print(i,f\"Epoch: {epoch}, Loss: {loss.item()}\")"
   ],
   "metadata": {
    "collapsed": false,
    "ExecuteTime": {
     "end_time": "2023-07-31T03:02:00.773617600Z",
     "start_time": "2023-07-31T02:51:42.250860800Z"
    }
   }
  },
  {
   "cell_type": "code",
   "execution_count": 12,
   "outputs": [],
   "source": [
    "for i, batch in enumerate(training_data):\n",
    "    if i == 300:\n",
    "        src, trg, trg_y = batch\n",
    "        src = src.permute(1, 0, 2)\n",
    "        trg = trg.permute(1, 0, 2)\n",
    "        trg_y = trg_y.unsqueeze(-1).permute(1, 0, 2)\n",
    "\n",
    "        src = src.to(device)\n",
    "        trg = trg.to(device)\n",
    "\n",
    "        output = model(\n",
    "            src=src,\n",
    "            tgt=trg,\n",
    "            src_mask=src_mask,\n",
    "            tgt_mask=tgt_mask,\n",
    "            )\n",
    "        #output_list.append(output.detach().cpu().numpy())\n",
    "        break"
   ],
   "metadata": {
    "collapsed": false,
    "ExecuteTime": {
     "end_time": "2023-07-31T03:02:22.725016200Z",
     "start_time": "2023-07-31T03:02:21.971043700Z"
    }
   }
  },
  {
   "cell_type": "code",
   "execution_count": 13,
   "outputs": [
    {
     "data": {
      "text/plain": "torch.Size([5, 128, 1])"
     },
     "execution_count": 13,
     "metadata": {},
     "output_type": "execute_result"
    }
   ],
   "source": [
    "output.shape"
   ],
   "metadata": {
    "collapsed": false,
    "ExecuteTime": {
     "end_time": "2023-07-31T03:02:28.189447600Z",
     "start_time": "2023-07-31T03:02:28.167027300Z"
    }
   }
  },
  {
   "cell_type": "code",
   "execution_count": 14,
   "outputs": [
    {
     "data": {
      "text/plain": "[<matplotlib.lines.Line2D at 0x20b07c68040>]"
     },
     "execution_count": 14,
     "metadata": {},
     "output_type": "execute_result"
    },
    {
     "data": {
      "text/plain": "<Figure size 640x480 with 1 Axes>",
      "image/png": "[encoded data removed]"
     },
     "metadata": {},
     "output_type": "display_data"
    }
   ],
   "source": [
    "plt.plot(trg_y.detach().cpu().numpy()[4, :, 0])\n",
    "plt.plot(output.detach().cpu().numpy()[4, :, 0])"
   ],
   "metadata": {
    "collapsed": false,
    "ExecuteTime": {
     "end_time": "2023-07-31T03:02:43.411555300Z",
     "start_time": "2023-07-31T03:02:43.122178Z"
    }
   }
  }
 ],
 "metadata": {
  "kernelspec": {
   "display_name": "Python 3",
   "language": "python",
   "name": "python3"
  },
  "language_info": {
   "codemirror_mode": {
    "name": "ipython",
    "version": 2
   },
   "file_extension": ".py",
   "mimetype": "text/x-python",
   "name": "python",
   "nbconvert_exporter": "python",
   "pygments_lexer": "ipython2",
   "version": "2.7.6"
  }
 },
 "nbformat": 4,
 "nbformat_minor": 0
}
